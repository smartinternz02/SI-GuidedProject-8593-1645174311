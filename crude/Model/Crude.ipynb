{
 "cells": [
  {
   "cell_type": "code",
   "execution_count": 7,
   "id": "93ca2e30",
   "metadata": {
    "id": "93ca2e30",
    "outputId": "8a58694a-4c3b-4466-bbc3-723711889705"
   },
   "outputs": [],
   "source": [
    "# pip install tensorflow==2.2.0"
   ]
  },
  {
   "cell_type": "code",
   "execution_count": 8,
   "id": "5cd271bf",
   "metadata": {
    "id": "5cd271bf",
    "outputId": "306878bd-240b-4894-e0c3-cc4c57f12e9d"
   },
   "outputs": [],
   "source": [
    "# pip install keras==2.4.3"
   ]
  },
  {
   "cell_type": "code",
   "execution_count": 1,
   "id": "baf25426",
   "metadata": {
    "id": "baf25426"
   },
   "outputs": [],
   "source": [
    "import pandas as pd\n",
    "import numpy as np\n",
    "import matplotlib.pyplot as plt"
   ]
  },
  {
   "cell_type": "code",
   "execution_count": 2,
   "id": "c3d07ded",
   "metadata": {
    "id": "c3d07ded"
   },
   "outputs": [],
   "source": [
    "data=pd.read_excel(r\"C:\\Users\\tharu\\Desktop\\crude oil_new with ibm\\dataset\\Crude Oil Prices Daily.xlsx\")"
   ]
  },
  {
   "cell_type": "code",
   "execution_count": 3,
   "id": "4c1ae426",
   "metadata": {
    "colab": {
     "base_uri": "https://localhost:8080/",
     "height": 206
    },
    "id": "4c1ae426",
    "outputId": "221b39bc-9322-44bc-c0f7-d9e5a2d96ca5"
   },
   "outputs": [
    {
     "data": {
      "text/html": [
       "<div>\n",
       "<style scoped>\n",
       "    .dataframe tbody tr th:only-of-type {\n",
       "        vertical-align: middle;\n",
       "    }\n",
       "\n",
       "    .dataframe tbody tr th {\n",
       "        vertical-align: top;\n",
       "    }\n",
       "\n",
       "    .dataframe thead th {\n",
       "        text-align: right;\n",
       "    }\n",
       "</style>\n",
       "<table border=\"1\" class=\"dataframe\">\n",
       "  <thead>\n",
       "    <tr style=\"text-align: right;\">\n",
       "      <th></th>\n",
       "      <th>Date</th>\n",
       "      <th>Closing Value</th>\n",
       "    </tr>\n",
       "  </thead>\n",
       "  <tbody>\n",
       "    <tr>\n",
       "      <th>0</th>\n",
       "      <td>1986-01-02</td>\n",
       "      <td>25.56</td>\n",
       "    </tr>\n",
       "    <tr>\n",
       "      <th>1</th>\n",
       "      <td>1986-01-03</td>\n",
       "      <td>26.00</td>\n",
       "    </tr>\n",
       "    <tr>\n",
       "      <th>2</th>\n",
       "      <td>1986-01-06</td>\n",
       "      <td>26.53</td>\n",
       "    </tr>\n",
       "    <tr>\n",
       "      <th>3</th>\n",
       "      <td>1986-01-07</td>\n",
       "      <td>25.85</td>\n",
       "    </tr>\n",
       "    <tr>\n",
       "      <th>4</th>\n",
       "      <td>1986-01-08</td>\n",
       "      <td>25.87</td>\n",
       "    </tr>\n",
       "  </tbody>\n",
       "</table>\n",
       "</div>"
      ],
      "text/plain": [
       "        Date  Closing Value\n",
       "0 1986-01-02          25.56\n",
       "1 1986-01-03          26.00\n",
       "2 1986-01-06          26.53\n",
       "3 1986-01-07          25.85\n",
       "4 1986-01-08          25.87"
      ]
     },
     "execution_count": 3,
     "metadata": {},
     "output_type": "execute_result"
    }
   ],
   "source": [
    "data.head()"
   ]
  },
  {
   "cell_type": "code",
   "execution_count": 4,
   "id": "744f5d64",
   "metadata": {
    "colab": {
     "base_uri": "https://localhost:8080/",
     "height": 206
    },
    "id": "744f5d64",
    "outputId": "db4688b9-1175-40a5-d6d4-29c1496ae703"
   },
   "outputs": [
    {
     "data": {
      "text/html": [
       "<div>\n",
       "<style scoped>\n",
       "    .dataframe tbody tr th:only-of-type {\n",
       "        vertical-align: middle;\n",
       "    }\n",
       "\n",
       "    .dataframe tbody tr th {\n",
       "        vertical-align: top;\n",
       "    }\n",
       "\n",
       "    .dataframe thead th {\n",
       "        text-align: right;\n",
       "    }\n",
       "</style>\n",
       "<table border=\"1\" class=\"dataframe\">\n",
       "  <thead>\n",
       "    <tr style=\"text-align: right;\">\n",
       "      <th></th>\n",
       "      <th>Date</th>\n",
       "      <th>Closing Value</th>\n",
       "    </tr>\n",
       "  </thead>\n",
       "  <tbody>\n",
       "    <tr>\n",
       "      <th>8218</th>\n",
       "      <td>2018-07-03</td>\n",
       "      <td>74.19</td>\n",
       "    </tr>\n",
       "    <tr>\n",
       "      <th>8219</th>\n",
       "      <td>2018-07-04</td>\n",
       "      <td>NaN</td>\n",
       "    </tr>\n",
       "    <tr>\n",
       "      <th>8220</th>\n",
       "      <td>2018-07-05</td>\n",
       "      <td>73.05</td>\n",
       "    </tr>\n",
       "    <tr>\n",
       "      <th>8221</th>\n",
       "      <td>2018-07-06</td>\n",
       "      <td>73.78</td>\n",
       "    </tr>\n",
       "    <tr>\n",
       "      <th>8222</th>\n",
       "      <td>2018-07-09</td>\n",
       "      <td>73.93</td>\n",
       "    </tr>\n",
       "  </tbody>\n",
       "</table>\n",
       "</div>"
      ],
      "text/plain": [
       "           Date  Closing Value\n",
       "8218 2018-07-03          74.19\n",
       "8219 2018-07-04            NaN\n",
       "8220 2018-07-05          73.05\n",
       "8221 2018-07-06          73.78\n",
       "8222 2018-07-09          73.93"
      ]
     },
     "execution_count": 4,
     "metadata": {},
     "output_type": "execute_result"
    }
   ],
   "source": [
    "data.tail()"
   ]
  },
  {
   "cell_type": "code",
   "execution_count": 5,
   "id": "cb7f2dbe",
   "metadata": {
    "colab": {
     "base_uri": "https://localhost:8080/",
     "height": 300
    },
    "id": "cb7f2dbe",
    "outputId": "54589cec-d37a-47fa-ee9c-c7027cf85f0a"
   },
   "outputs": [
    {
     "data": {
      "text/html": [
       "<div>\n",
       "<style scoped>\n",
       "    .dataframe tbody tr th:only-of-type {\n",
       "        vertical-align: middle;\n",
       "    }\n",
       "\n",
       "    .dataframe tbody tr th {\n",
       "        vertical-align: top;\n",
       "    }\n",
       "\n",
       "    .dataframe thead th {\n",
       "        text-align: right;\n",
       "    }\n",
       "</style>\n",
       "<table border=\"1\" class=\"dataframe\">\n",
       "  <thead>\n",
       "    <tr style=\"text-align: right;\">\n",
       "      <th></th>\n",
       "      <th>Closing Value</th>\n",
       "    </tr>\n",
       "  </thead>\n",
       "  <tbody>\n",
       "    <tr>\n",
       "      <th>count</th>\n",
       "      <td>8216.000000</td>\n",
       "    </tr>\n",
       "    <tr>\n",
       "      <th>mean</th>\n",
       "      <td>43.492139</td>\n",
       "    </tr>\n",
       "    <tr>\n",
       "      <th>std</th>\n",
       "      <td>29.616804</td>\n",
       "    </tr>\n",
       "    <tr>\n",
       "      <th>min</th>\n",
       "      <td>10.250000</td>\n",
       "    </tr>\n",
       "    <tr>\n",
       "      <th>25%</th>\n",
       "      <td>19.577500</td>\n",
       "    </tr>\n",
       "    <tr>\n",
       "      <th>50%</th>\n",
       "      <td>29.610000</td>\n",
       "    </tr>\n",
       "    <tr>\n",
       "      <th>75%</th>\n",
       "      <td>63.402500</td>\n",
       "    </tr>\n",
       "    <tr>\n",
       "      <th>max</th>\n",
       "      <td>145.310000</td>\n",
       "    </tr>\n",
       "  </tbody>\n",
       "</table>\n",
       "</div>"
      ],
      "text/plain": [
       "       Closing Value\n",
       "count    8216.000000\n",
       "mean       43.492139\n",
       "std        29.616804\n",
       "min        10.250000\n",
       "25%        19.577500\n",
       "50%        29.610000\n",
       "75%        63.402500\n",
       "max       145.310000"
      ]
     },
     "execution_count": 5,
     "metadata": {},
     "output_type": "execute_result"
    }
   ],
   "source": [
    "data.describe()"
   ]
  },
  {
   "cell_type": "code",
   "execution_count": 6,
   "id": "f15480f6",
   "metadata": {
    "colab": {
     "base_uri": "https://localhost:8080/"
    },
    "id": "f15480f6",
    "outputId": "76df6e04-5c1e-44a8-f578-ec1e7a272bc9"
   },
   "outputs": [
    {
     "name": "stdout",
     "output_type": "stream",
     "text": [
      "<class 'pandas.core.frame.DataFrame'>\n",
      "RangeIndex: 8223 entries, 0 to 8222\n",
      "Data columns (total 2 columns):\n",
      " #   Column         Non-Null Count  Dtype         \n",
      "---  ------         --------------  -----         \n",
      " 0   Date           8223 non-null   datetime64[ns]\n",
      " 1   Closing Value  8216 non-null   float64       \n",
      "dtypes: datetime64[ns](1), float64(1)\n",
      "memory usage: 128.6 KB\n"
     ]
    }
   ],
   "source": [
    "data.info()"
   ]
  },
  {
   "cell_type": "code",
   "execution_count": 7,
   "id": "a043546d",
   "metadata": {
    "colab": {
     "base_uri": "https://localhost:8080/"
    },
    "id": "a043546d",
    "outputId": "dae4b911-e148-4eda-8763-4050ac1aa68b"
   },
   "outputs": [
    {
     "data": {
      "text/plain": [
       "Date             False\n",
       "Closing Value     True\n",
       "dtype: bool"
      ]
     },
     "execution_count": 7,
     "metadata": {},
     "output_type": "execute_result"
    }
   ],
   "source": [
    "data.isnull().any()"
   ]
  },
  {
   "cell_type": "code",
   "execution_count": 8,
   "id": "061ceda4",
   "metadata": {
    "colab": {
     "base_uri": "https://localhost:8080/"
    },
    "id": "061ceda4",
    "outputId": "e03a2f79-2f2c-4244-fdd7-88760e9b5109"
   },
   "outputs": [
    {
     "data": {
      "text/plain": [
       "Date             0\n",
       "Closing Value    7\n",
       "dtype: int64"
      ]
     },
     "execution_count": 8,
     "metadata": {},
     "output_type": "execute_result"
    }
   ],
   "source": [
    "data.isnull().sum()"
   ]
  },
  {
   "cell_type": "code",
   "execution_count": 9,
   "id": "29fcc933",
   "metadata": {
    "id": "29fcc933"
   },
   "outputs": [],
   "source": [
    "data.dropna(axis=0,inplace=True)"
   ]
  },
  {
   "cell_type": "code",
   "execution_count": 10,
   "id": "0b134040",
   "metadata": {
    "colab": {
     "base_uri": "https://localhost:8080/"
    },
    "id": "0b134040",
    "outputId": "11cb47a0-2fba-4359-95d3-34fca1a9779c"
   },
   "outputs": [
    {
     "data": {
      "text/plain": [
       "Date             0\n",
       "Closing Value    0\n",
       "dtype: int64"
      ]
     },
     "execution_count": 10,
     "metadata": {},
     "output_type": "execute_result"
    }
   ],
   "source": [
    "data.isnull().sum()"
   ]
  },
  {
   "cell_type": "code",
   "execution_count": 11,
   "id": "32ed9ac0",
   "metadata": {
    "colab": {
     "base_uri": "https://localhost:8080/"
    },
    "id": "32ed9ac0",
    "outputId": "2f3b523b-f375-49d3-8b91-b3fc434d2e0a"
   },
   "outputs": [
    {
     "data": {
      "text/plain": [
       "(8216, 2)"
      ]
     },
     "execution_count": 11,
     "metadata": {},
     "output_type": "execute_result"
    }
   ],
   "source": [
    "data.shape"
   ]
  },
  {
   "cell_type": "code",
   "execution_count": 12,
   "id": "b3cf7430",
   "metadata": {
    "id": "b3cf7430"
   },
   "outputs": [],
   "source": [
    "import tensorflow as tf"
   ]
  },
  {
   "cell_type": "code",
   "execution_count": 13,
   "id": "20105b57",
   "metadata": {
    "colab": {
     "base_uri": "https://localhost:8080/",
     "height": 35
    },
    "id": "20105b57",
    "outputId": "3e8adbf4-83b9-4c79-a634-1b58fc22e641"
   },
   "outputs": [
    {
     "data": {
      "text/plain": [
       "'2.3.0'"
      ]
     },
     "execution_count": 13,
     "metadata": {},
     "output_type": "execute_result"
    }
   ],
   "source": [
    "tf.__version__"
   ]
  },
  {
   "cell_type": "code",
   "execution_count": 14,
   "id": "b57d5f68",
   "metadata": {
    "id": "b57d5f68"
   },
   "outputs": [],
   "source": [
    "import tensorflow.keras"
   ]
  },
  {
   "cell_type": "code",
   "execution_count": 15,
   "id": "b21a0292",
   "metadata": {
    "colab": {
     "base_uri": "https://localhost:8080/",
     "height": 35
    },
    "id": "b21a0292",
    "outputId": "113a15a1-8d64-4f01-b1d8-962044cd1809"
   },
   "outputs": [
    {
     "data": {
      "text/plain": [
       "'2.4.0'"
      ]
     },
     "execution_count": 15,
     "metadata": {},
     "output_type": "execute_result"
    }
   ],
   "source": [
    "tensorflow.keras.__version__"
   ]
  },
  {
   "cell_type": "code",
   "execution_count": 16,
   "id": "3b52027e",
   "metadata": {
    "id": "3b52027e"
   },
   "outputs": [],
   "source": [
    "data_oil=data.reset_index()['Closing Value']"
   ]
  },
  {
   "cell_type": "code",
   "execution_count": 17,
   "id": "e405b35b",
   "metadata": {
    "colab": {
     "base_uri": "https://localhost:8080/"
    },
    "id": "e405b35b",
    "outputId": "6300aff8-8ae9-49a3-ef5f-83c94e66978d"
   },
   "outputs": [
    {
     "data": {
      "text/plain": [
       "0       25.56\n",
       "1       26.00\n",
       "2       26.53\n",
       "3       25.85\n",
       "4       25.87\n",
       "        ...  \n",
       "8211    73.89\n",
       "8212    74.19\n",
       "8213    73.05\n",
       "8214    73.78\n",
       "8215    73.93\n",
       "Name: Closing Value, Length: 8216, dtype: float64"
      ]
     },
     "execution_count": 17,
     "metadata": {},
     "output_type": "execute_result"
    }
   ],
   "source": [
    "data_oil"
   ]
  },
  {
   "cell_type": "code",
   "execution_count": 18,
   "id": "c40cd3f0",
   "metadata": {
    "colab": {
     "base_uri": "https://localhost:8080/",
     "height": 282
    },
    "id": "c40cd3f0",
    "outputId": "90765c18-8579-4d50-a8aa-94a9eddd0dfc"
   },
   "outputs": [
    {
     "data": {
      "text/plain": [
       "[<matplotlib.lines.Line2D at 0x1d30113f040>]"
      ]
     },
     "execution_count": 18,
     "metadata": {},
     "output_type": "execute_result"
    },
    {
     "data": {
      "image/png": "[encoded data removed]",
      "text/plain": [
       "<Figure size 432x288 with 1 Axes>"
      ]
     },
     "metadata": {
      "needs_background": "light"
     },
     "output_type": "display_data"
    }
   ],
   "source": [
    "plt.plot(data_oil)"
   ]
  },
  {
   "cell_type": "code",
   "execution_count": 19,
   "id": "e0efa341",
   "metadata": {
    "id": "e0efa341"
   },
   "outputs": [],
   "source": [
    "from sklearn.preprocessing import MinMaxScaler\n",
    "scaler=MinMaxScaler(feature_range=(0,1))\n",
    "data_oil=scaler.fit_transform(np.array(data_oil).reshape(-1,1))"
   ]
  },
  {
   "cell_type": "code",
   "execution_count": 20,
   "id": "ebe3107a",
   "metadata": {
    "colab": {
     "base_uri": "https://localhost:8080/"
    },
    "id": "ebe3107a",
    "outputId": "e770caff-868e-4721-a5fb-e833e5e055c3"
   },
   "outputs": [
    {
     "name": "stdout",
     "output_type": "stream",
     "text": [
      "[[0.11335703]\n",
      " [0.11661484]\n",
      " [0.12053902]\n",
      " ...\n",
      " [0.46497853]\n",
      " [0.47038353]\n",
      " [0.47149415]]\n"
     ]
    }
   ],
   "source": [
    "print(data_oil)"
   ]
  },
  {
   "cell_type": "code",
   "execution_count": 21,
   "id": "ea6a5b63",
   "metadata": {
    "id": "ea6a5b63"
   },
   "outputs": [],
   "source": [
    "training_size=int(len(data_oil)*0.65)\n",
    "test_size=len(data_oil)-training_size\n",
    "train_data,test_data=data_oil[0:training_size,:],data_oil[training_size:len(data_oil),:1]"
   ]
  },
  {
   "cell_type": "code",
   "execution_count": 22,
   "id": "9e961e69",
   "metadata": {
    "colab": {
     "base_uri": "https://localhost:8080/"
    },
    "id": "9e961e69",
    "outputId": "923dc44e-3577-4221-adb1-59c9af86e00c"
   },
   "outputs": [
    {
     "data": {
      "text/plain": [
       "(5340, 2876)"
      ]
     },
     "execution_count": 22,
     "metadata": {},
     "output_type": "execute_result"
    }
   ],
   "source": [
    "training_size,test_size"
   ]
  },
  {
   "cell_type": "code",
   "execution_count": 23,
   "id": "942423cd",
   "metadata": {
    "colab": {
     "base_uri": "https://localhost:8080/"
    },
    "id": "942423cd",
    "outputId": "be89f4cb-137e-4115-94e1-f7544b6fe6e2"
   },
   "outputs": [
    {
     "data": {
      "text/plain": [
       "array([[0.11335703],\n",
       "       [0.11661484],\n",
       "       [0.12053902],\n",
       "       ...,\n",
       "       [0.37916482],\n",
       "       [0.38153413],\n",
       "       [0.38294092]])"
      ]
     },
     "execution_count": 23,
     "metadata": {},
     "output_type": "execute_result"
    }
   ],
   "source": [
    "train_data"
   ]
  },
  {
   "cell_type": "code",
   "execution_count": 24,
   "id": "8cfbf567",
   "metadata": {
    "colab": {
     "base_uri": "https://localhost:8080/"
    },
    "id": "8cfbf567",
    "outputId": "af08a025-feee-4605-d7b1-1ae5fc3dc2d2"
   },
   "outputs": [
    {
     "data": {
      "text/plain": [
       "(5340, 1)"
      ]
     },
     "execution_count": 24,
     "metadata": {},
     "output_type": "execute_result"
    }
   ],
   "source": [
    "train_data.shape"
   ]
  },
  {
   "cell_type": "code",
   "execution_count": 25,
   "id": "d1ddbf9f",
   "metadata": {
    "id": "d1ddbf9f"
   },
   "outputs": [],
   "source": [
    "def create_dataset(dataset, time_step=1):\n",
    "\tdataX, dataY = [], []\n",
    "\tfor i in range(len(dataset)-time_step-1):\n",
    "\t\ta = dataset[i:(i+time_step), 0]   ###i=0, 0,1,2,3-----99   100 \n",
    "\t\tdataX.append(a)\n",
    "\t\tdataY.append(dataset[i + time_step, 0])\n",
    "\treturn np.array(dataX), np.array(dataY)"
   ]
  },
  {
   "cell_type": "code",
   "execution_count": 26,
   "id": "ff7919a4",
   "metadata": {
    "id": "ff7919a4"
   },
   "outputs": [],
   "source": [
    "time_step = 10\n",
    "X_train, y_train = create_dataset(train_data, time_step)\n",
    "X_test, ytest = create_dataset(test_data, time_step)"
   ]
  },
  {
   "cell_type": "code",
   "execution_count": 27,
   "id": "9be05d50",
   "metadata": {
    "colab": {
     "base_uri": "https://localhost:8080/"
    },
    "id": "9be05d50",
    "outputId": "13d87ab1-ae15-4dd4-fd88-8e9430a26cf4"
   },
   "outputs": [
    {
     "name": "stdout",
     "output_type": "stream",
     "text": [
      "(5329, 10)\n",
      "(5329,)\n"
     ]
    },
    {
     "data": {
      "text/plain": [
       "(None, None)"
      ]
     },
     "execution_count": 27,
     "metadata": {},
     "output_type": "execute_result"
    }
   ],
   "source": [
    "print(X_train.shape), print(y_train.shape)"
   ]
  },
  {
   "cell_type": "code",
   "execution_count": 28,
   "id": "e8a81099",
   "metadata": {
    "colab": {
     "base_uri": "https://localhost:8080/"
    },
    "id": "e8a81099",
    "outputId": "9c862282-ac45-4e99-af30-a2e213ffb70e"
   },
   "outputs": [
    {
     "name": "stdout",
     "output_type": "stream",
     "text": [
      "(2865, 10)\n",
      "(2865,)\n"
     ]
    },
    {
     "data": {
      "text/plain": [
       "(None, None)"
      ]
     },
     "execution_count": 28,
     "metadata": {},
     "output_type": "execute_result"
    }
   ],
   "source": [
    "print(X_test.shape), print(ytest.shape)"
   ]
  },
  {
   "cell_type": "code",
   "execution_count": 29,
   "id": "9cb9b7fb",
   "metadata": {
    "colab": {
     "base_uri": "https://localhost:8080/"
    },
    "id": "9cb9b7fb",
    "outputId": "f9604320-6540-44fb-8dee-8a2fec984a9f"
   },
   "outputs": [
    {
     "data": {
      "text/plain": [
       "array([[0.11335703, 0.11661484, 0.12053902, ..., 0.10980305, 0.1089886 ,\n",
       "        0.11054346],\n",
       "       [0.11661484, 0.12053902, 0.11550422, ..., 0.1089886 , 0.11054346,\n",
       "        0.10165852],\n",
       "       [0.12053902, 0.11550422, 0.1156523 , ..., 0.11054346, 0.10165852,\n",
       "        0.09906708],\n",
       "       ...,\n",
       "       [0.36731823, 0.35176958, 0.36080261, ..., 0.36391234, 0.37042796,\n",
       "        0.37042796],\n",
       "       [0.35176958, 0.36080261, 0.35354657, ..., 0.37042796, 0.37042796,\n",
       "        0.37879461],\n",
       "       [0.36080261, 0.35354657, 0.35295424, ..., 0.37042796, 0.37879461,\n",
       "        0.37916482]])"
      ]
     },
     "execution_count": 29,
     "metadata": {},
     "output_type": "execute_result"
    }
   ],
   "source": [
    "X_train"
   ]
  },
  {
   "cell_type": "code",
   "execution_count": 30,
   "id": "f405bd70",
   "metadata": {
    "colab": {
     "base_uri": "https://localhost:8080/"
    },
    "id": "f405bd70",
    "outputId": "92de08b3-0319-4222-86a6-4c038ea42ab2"
   },
   "outputs": [
    {
     "data": {
      "text/plain": [
       "array([0.10165852, 0.09906708, 0.08203761, ..., 0.37879461, 0.37916482,\n",
       "       0.38153413])"
      ]
     },
     "execution_count": 30,
     "metadata": {},
     "output_type": "execute_result"
    }
   ],
   "source": [
    "y_train"
   ]
  },
  {
   "cell_type": "code",
   "execution_count": 31,
   "id": "d2cac7a6",
   "metadata": {
    "id": "d2cac7a6"
   },
   "outputs": [],
   "source": [
    "X_train =X_train.reshape(X_train.shape[0],X_train.shape[1] , 1)\n",
    "X_test = X_test.reshape(X_test.shape[0],X_test.shape[1] , 1)"
   ]
  },
  {
   "cell_type": "code",
   "execution_count": 32,
   "id": "8f478e12",
   "metadata": {
    "id": "8f478e12"
   },
   "outputs": [],
   "source": [
    "from tensorflow.keras.models import Sequential\n",
    "from tensorflow.keras.layers import Dense\n",
    "from tensorflow.keras.layers import LSTM"
   ]
  },
  {
   "cell_type": "code",
   "execution_count": 33,
   "id": "1989bfd0",
   "metadata": {
    "id": "1989bfd0"
   },
   "outputs": [],
   "source": [
    "model=Sequential()"
   ]
  },
  {
   "cell_type": "code",
   "execution_count": 34,
   "id": "91a5a213",
   "metadata": {
    "id": "91a5a213"
   },
   "outputs": [],
   "source": [
    "model.add(LSTM(50,return_sequences=True,input_shape=(10,1)))\n",
    "model.add(LSTM(50,return_sequences=True))\n",
    "model.add(LSTM(50))"
   ]
  },
  {
   "cell_type": "code",
   "execution_count": 35,
   "id": "355d79f0",
   "metadata": {
    "id": "355d79f0"
   },
   "outputs": [],
   "source": [
    "model.add(Dense(1))\n",
    "model.compile(loss='mean_squared_error',optimizer='adam')"
   ]
  },
  {
   "cell_type": "code",
   "execution_count": 36,
   "id": "f4cf1cd2",
   "metadata": {
    "colab": {
     "base_uri": "https://localhost:8080/"
    },
    "id": "f4cf1cd2",
    "outputId": "39cf9738-ee97-4a3c-8d1a-4c110610d0dd"
   },
   "outputs": [
    {
     "name": "stdout",
     "output_type": "stream",
     "text": [
      "Model: \"sequential\"\n",
      "_________________________________________________________________\n",
      "Layer (type)                 Output Shape              Param #   \n",
      "=================================================================\n",
      "lstm (LSTM)                  (None, 10, 50)            10400     \n",
      "_________________________________________________________________\n",
      "lstm_1 (LSTM)                (None, 10, 50)            20200     \n",
      "_________________________________________________________________\n",
      "lstm_2 (LSTM)                (None, 50)                20200     \n",
      "_________________________________________________________________\n",
      "dense (Dense)                (None, 1)                 51        \n",
      "=================================================================\n",
      "Total params: 50,851\n",
      "Trainable params: 50,851\n",
      "Non-trainable params: 0\n",
      "_________________________________________________________________\n"
     ]
    }
   ],
   "source": [
    "model.summary()"
   ]
  },
  {
   "cell_type": "code",
   "execution_count": 37,
   "id": "fde62bb5",
   "metadata": {
    "colab": {
     "base_uri": "https://localhost:8080/"
    },
    "id": "fde62bb5",
    "outputId": "0de7f48b-971e-449b-f962-fa8d8edcaeee"
   },
   "outputs": [
    {
     "name": "stdout",
     "output_type": "stream",
     "text": [
      "Epoch 1/50\n",
      "84/84 [==============================] - 2s 19ms/step - loss: 0.0018 - val_loss: 9.7411e-04\n",
      "Epoch 2/50\n",
      "84/84 [==============================] - 1s 9ms/step - loss: 1.3027e-04 - val_loss: 9.8857e-04\n",
      "Epoch 3/50\n",
      "84/84 [==============================] - 1s 9ms/step - loss: 1.2623e-04 - val_loss: 8.8370e-04\n",
      "Epoch 4/50\n",
      "84/84 [==============================] - 1s 9ms/step - loss: 1.2431e-04 - val_loss: 8.8558e-04\n",
      "Epoch 5/50\n",
      "84/84 [==============================] - 1s 9ms/step - loss: 1.2505e-04 - val_loss: 8.2248e-04\n",
      "Epoch 6/50\n",
      "84/84 [==============================] - 1s 9ms/step - loss: 1.2708e-04 - val_loss: 8.6233e-04\n",
      "Epoch 7/50\n",
      "84/84 [==============================] - 1s 9ms/step - loss: 1.1975e-04 - val_loss: 9.5132e-04\n",
      "Epoch 8/50\n",
      "84/84 [==============================] - 1s 9ms/step - loss: 1.2204e-04 - val_loss: 7.9174e-04\n",
      "Epoch 9/50\n",
      "84/84 [==============================] - 1s 9ms/step - loss: 1.1895e-04 - val_loss: 0.0015\n",
      "Epoch 10/50\n",
      "84/84 [==============================] - 1s 9ms/step - loss: 1.1684e-04 - val_loss: 7.0896e-04\n",
      "Epoch 11/50\n",
      "84/84 [==============================] - 1s 9ms/step - loss: 1.1208e-04 - val_loss: 7.2345e-04\n",
      "Epoch 12/50\n",
      "84/84 [==============================] - 1s 10ms/step - loss: 1.0719e-04 - val_loss: 0.0011\n",
      "Epoch 13/50\n",
      "84/84 [==============================] - 1s 9ms/step - loss: 1.1871e-04 - val_loss: 0.0015\n",
      "Epoch 14/50\n",
      "84/84 [==============================] - 1s 9ms/step - loss: 1.0323e-04 - val_loss: 6.6660e-04\n",
      "Epoch 15/50\n",
      "84/84 [==============================] - 1s 9ms/step - loss: 1.0107e-04 - val_loss: 7.0082e-04\n",
      "Epoch 16/50\n",
      "84/84 [==============================] - 1s 9ms/step - loss: 9.1527e-05 - val_loss: 5.2804e-04\n",
      "Epoch 17/50\n",
      "84/84 [==============================] - 1s 9ms/step - loss: 9.2936e-05 - val_loss: 7.8363e-04\n",
      "Epoch 18/50\n",
      "84/84 [==============================] - 1s 9ms/step - loss: 8.7104e-05 - val_loss: 5.1989e-04\n",
      "Epoch 19/50\n",
      "84/84 [==============================] - 1s 9ms/step - loss: 8.4718e-05 - val_loss: 4.2994e-04\n",
      "Epoch 20/50\n",
      "84/84 [==============================] - 1s 9ms/step - loss: 8.3151e-05 - val_loss: 8.0923e-04\n",
      "Epoch 21/50\n",
      "84/84 [==============================] - 1s 9ms/step - loss: 9.0047e-05 - val_loss: 5.6063e-04\n",
      "Epoch 22/50\n",
      "84/84 [==============================] - 1s 9ms/step - loss: 8.9366e-05 - val_loss: 6.6207e-04\n",
      "Epoch 23/50\n",
      "84/84 [==============================] - 1s 9ms/step - loss: 7.6276e-05 - val_loss: 0.0012\n",
      "Epoch 24/50\n",
      "84/84 [==============================] - 1s 9ms/step - loss: 7.7391e-05 - val_loss: 5.7532e-04\n",
      "Epoch 25/50\n",
      "84/84 [==============================] - 1s 9ms/step - loss: 6.8074e-05 - val_loss: 6.1300e-04\n",
      "Epoch 26/50\n",
      "84/84 [==============================] - 1s 9ms/step - loss: 6.9018e-05 - val_loss: 7.1184e-04\n",
      "Epoch 27/50\n",
      "84/84 [==============================] - 1s 9ms/step - loss: 6.4386e-05 - val_loss: 6.5285e-04\n",
      "Epoch 28/50\n",
      "84/84 [==============================] - 1s 9ms/step - loss: 6.7324e-05 - val_loss: 4.5395e-04\n",
      "Epoch 29/50\n",
      "84/84 [==============================] - 1s 9ms/step - loss: 6.1262e-05 - val_loss: 2.6187e-04\n",
      "Epoch 30/50\n",
      "84/84 [==============================] - 1s 9ms/step - loss: 5.5456e-05 - val_loss: 4.2862e-04\n",
      "Epoch 31/50\n",
      "84/84 [==============================] - 1s 9ms/step - loss: 5.4099e-05 - val_loss: 2.3478e-04\n",
      "Epoch 32/50\n",
      "84/84 [==============================] - 1s 9ms/step - loss: 5.5367e-05 - val_loss: 2.2445e-04\n",
      "Epoch 33/50\n",
      "84/84 [==============================] - 1s 10ms/step - loss: 6.0381e-05 - val_loss: 2.3274e-04\n",
      "Epoch 34/50\n",
      "84/84 [==============================] - 1s 9ms/step - loss: 5.1583e-05 - val_loss: 2.6354e-04\n",
      "Epoch 35/50\n",
      "84/84 [==============================] - 1s 10ms/step - loss: 4.5185e-05 - val_loss: 2.6251e-04\n",
      "Epoch 36/50\n",
      "84/84 [==============================] - 1s 10ms/step - loss: 4.5511e-05 - val_loss: 5.0960e-04\n",
      "Epoch 37/50\n",
      "84/84 [==============================] - 1s 11ms/step - loss: 4.3378e-05 - val_loss: 1.9377e-04\n",
      "Epoch 38/50\n",
      "84/84 [==============================] - 1s 10ms/step - loss: 4.1565e-05 - val_loss: 2.1512e-04\n",
      "Epoch 39/50\n",
      "84/84 [==============================] - 1s 10ms/step - loss: 3.9408e-05 - val_loss: 2.0942e-04\n",
      "Epoch 40/50\n",
      "84/84 [==============================] - 1s 10ms/step - loss: 3.9257e-05 - val_loss: 2.0002e-04\n",
      "Epoch 41/50\n",
      "84/84 [==============================] - 1s 10ms/step - loss: 3.6081e-05 - val_loss: 1.8151e-04\n",
      "Epoch 42/50\n",
      "84/84 [==============================] - 1s 10ms/step - loss: 3.8918e-05 - val_loss: 1.7258e-04\n",
      "Epoch 43/50\n",
      "84/84 [==============================] - 1s 10ms/step - loss: 3.8942e-05 - val_loss: 2.0948e-04\n",
      "Epoch 44/50\n",
      "84/84 [==============================] - 1s 10ms/step - loss: 3.4469e-05 - val_loss: 3.8659e-04\n",
      "Epoch 45/50\n",
      "84/84 [==============================] - 1s 10ms/step - loss: 3.7197e-05 - val_loss: 2.2431e-04\n",
      "Epoch 46/50\n",
      "84/84 [==============================] - 1s 9ms/step - loss: 3.4345e-05 - val_loss: 2.3349e-04\n",
      "Epoch 47/50\n",
      "84/84 [==============================] - 1s 9ms/step - loss: 3.3685e-05 - val_loss: 2.0552e-04\n",
      "Epoch 48/50\n",
      "84/84 [==============================] - 1s 9ms/step - loss: 3.5291e-05 - val_loss: 2.0783e-04\n",
      "Epoch 49/50\n",
      "84/84 [==============================] - 1s 9ms/step - loss: 3.4654e-05 - val_loss: 3.1236e-04\n",
      "Epoch 50/50\n",
      "84/84 [==============================] - 1s 10ms/step - loss: 3.0405e-05 - val_loss: 1.9210e-04\n"
     ]
    },
    {
     "data": {
      "text/plain": [
       "<tensorflow.python.keras.callbacks.History at 0x1d3059a6b20>"
      ]
     },
     "execution_count": 37,
     "metadata": {},
     "output_type": "execute_result"
    }
   ],
   "source": [
    "model.fit(X_train,y_train,validation_data=(X_test,ytest),epochs=50,batch_size=64,verbose=1)"
   ]
  },
  {
   "cell_type": "code",
   "execution_count": 38,
   "id": "169ed39c",
   "metadata": {
    "id": "169ed39c"
   },
   "outputs": [],
   "source": [
    "train_predict=model.predict(X_train)\n",
    "test_predict=model.predict(X_test)"
   ]
  },
  {
   "cell_type": "code",
   "execution_count": 39,
   "id": "ad496675",
   "metadata": {
    "id": "ad496675"
   },
   "outputs": [],
   "source": [
    "train_predict=scaler.inverse_transform(train_predict)\n",
    "test_predict=scaler.inverse_transform(test_predict)"
   ]
  },
  {
   "cell_type": "code",
   "execution_count": 40,
   "id": "1ae8d9dd",
   "metadata": {
    "colab": {
     "base_uri": "https://localhost:8080/"
    },
    "id": "1ae8d9dd",
    "outputId": "9e516ed4-43e1-4129-9750-273c890e5db3"
   },
   "outputs": [
    {
     "data": {
      "text/plain": [
       "29.520899339236532"
      ]
     },
     "execution_count": 40,
     "metadata": {},
     "output_type": "execute_result"
    }
   ],
   "source": [
    "import math\n",
    "from sklearn.metrics import mean_squared_error\n",
    "math.sqrt(mean_squared_error(y_train,train_predict))"
   ]
  },
  {
   "cell_type": "code",
   "execution_count": 41,
   "id": "3282f3ac",
   "metadata": {
    "colab": {
     "base_uri": "https://localhost:8080/"
    },
    "id": "3282f3ac",
    "outputId": "fcb4ba94-a55c-49ae-b6f5-27631506ba70"
   },
   "outputs": [
    {
     "data": {
      "text/plain": [
       "79.25132122026402"
      ]
     },
     "execution_count": 41,
     "metadata": {},
     "output_type": "execute_result"
    }
   ],
   "source": [
    "math.sqrt(mean_squared_error(ytest,test_predict))"
   ]
  },
  {
   "cell_type": "code",
   "execution_count": 42,
   "id": "e6d3dc3a",
   "metadata": {
    "colab": {
     "base_uri": "https://localhost:8080/",
     "height": 265
    },
    "id": "e6d3dc3a",
    "outputId": "c3944103-00aa-43bb-8b43-a469ec22471d"
   },
   "outputs": [
    {
     "data": {
      "image/png": "[encoded data removed]",
      "text/plain": [
       "<Figure size 432x288 with 1 Axes>"
      ]
     },
     "metadata": {
      "needs_background": "light"
     },
     "output_type": "display_data"
    }
   ],
   "source": [
    "look_back=10\n",
    "trainPredictPlot = np.empty_like(data_oil)\n",
    "trainPredictPlot[:, :] = np.nan\n",
    "trainPredictPlot[look_back:len(train_predict)+look_back, :] = train_predict\n",
    "# shift test predictions for plotting\n",
    "testPredictPlot = np.empty_like(data_oil)\n",
    "testPredictPlot[:, :] = np.nan\n",
    "testPredictPlot[len(train_predict)+(look_back*2)+1:len(data_oil)-1, :] = test_predict\n",
    "# plot baseline and predictions\n",
    "plt.plot(scaler.inverse_transform(data_oil))\n",
    "plt.plot(trainPredictPlot)\n",
    "plt.plot(testPredictPlot)\n",
    "plt.show()"
   ]
  },
  {
   "cell_type": "code",
   "execution_count": 43,
   "id": "5fddc7cb",
   "metadata": {
    "id": "5fddc7cb"
   },
   "outputs": [],
   "source": [
    "model.save(\"crude_oil.h5\")"
   ]
  },
  {
   "cell_type": "code",
   "execution_count": 44,
   "id": "87e34e1e",
   "metadata": {
    "colab": {
     "base_uri": "https://localhost:8080/"
    },
    "id": "87e34e1e",
    "outputId": "1d0e206d-a9d4-4b77-a3fb-427d6b154fd0"
   },
   "outputs": [
    {
     "data": {
      "text/plain": [
       "2876"
      ]
     },
     "execution_count": 44,
     "metadata": {},
     "output_type": "execute_result"
    }
   ],
   "source": [
    "len(test_data)"
   ]
  },
  {
   "cell_type": "code",
   "execution_count": 45,
   "id": "f49a924e",
   "metadata": {
    "colab": {
     "base_uri": "https://localhost:8080/"
    },
    "id": "f49a924e",
    "outputId": "186c786a-6e14-4f3a-98a6-7fa31f65bfe6"
   },
   "outputs": [
    {
     "data": {
      "text/plain": [
       "(1, 10)"
      ]
     },
     "execution_count": 45,
     "metadata": {},
     "output_type": "execute_result"
    }
   ],
   "source": [
    "x_input=test_data[2866:].reshape(1,-1)\n",
    "x_input.shape"
   ]
  },
  {
   "cell_type": "code",
   "execution_count": 46,
   "id": "5bb62b0f",
   "metadata": {
    "id": "5bb62b0f"
   },
   "outputs": [],
   "source": [
    "temp_input=list(x_input)\n",
    "temp_input=temp_input[0].tolist()"
   ]
  },
  {
   "cell_type": "code",
   "execution_count": 47,
   "id": "3f995a1f",
   "metadata": {
    "colab": {
     "base_uri": "https://localhost:8080/"
    },
    "id": "3f995a1f",
    "outputId": "e926e629-db2b-4a17-ad17-133151eb18a0"
   },
   "outputs": [
    {
     "data": {
      "text/plain": [
       "[0.44172960165852215,\n",
       " 0.48111950244335855,\n",
       " 0.49726047682511476,\n",
       " 0.4679401747371539,\n",
       " 0.4729749740855915,\n",
       " 0.47119798608026064,\n",
       " 0.47341922108692425,\n",
       " 0.4649785280616022,\n",
       " 0.4703835332444839,\n",
       " 0.47149415074781587]"
      ]
     },
     "execution_count": 47,
     "metadata": {},
     "output_type": "execute_result"
    }
   ],
   "source": [
    "temp_input"
   ]
  },
  {
   "cell_type": "code",
   "execution_count": 48,
   "id": "bec064d3",
   "metadata": {
    "colab": {
     "base_uri": "https://localhost:8080/"
    },
    "id": "bec064d3",
    "outputId": "28dea179-c375-412d-aed6-4ecbe3933dc2"
   },
   "outputs": [
    {
     "data": {
      "text/plain": [
       "10"
      ]
     },
     "execution_count": 48,
     "metadata": {},
     "output_type": "execute_result"
    }
   ],
   "source": [
    "len(temp_input)"
   ]
  },
  {
   "cell_type": "code",
   "execution_count": 49,
   "id": "57ffb049",
   "metadata": {
    "colab": {
     "base_uri": "https://localhost:8080/"
    },
    "id": "57ffb049",
    "outputId": "fbcd56b3-d088-4cc0-c1d6-42285b2b29d0"
   },
   "outputs": [
    {
     "name": "stdout",
     "output_type": "stream",
     "text": [
      "[0.47739312]\n",
      "11\n",
      "1 day input [0.4811195  0.49726048 0.46794017 0.47297497 0.47119799 0.47341922\n",
      " 0.46497853 0.47038353 0.47149415 0.47739312]\n",
      "1 day output [[0.48416662]]\n",
      "2 day input [0.49726048 0.46794017 0.47297497 0.47119799 0.47341922 0.46497853\n",
      " 0.47038353 0.47149415 0.47739312 0.48416662]\n",
      "2 day output [[0.4908697]]\n",
      "3 day input [0.46794017 0.47297497 0.47119799 0.47341922 0.46497853 0.47038353\n",
      " 0.47149415 0.47739312 0.48416662 0.4908697 ]\n",
      "3 day output [[0.49688435]]\n",
      "4 day input [0.47297497 0.47119799 0.47341922 0.46497853 0.47038353 0.47149415\n",
      " 0.47739312 0.48416662 0.4908697  0.49688435]\n",
      "4 day output [[0.5022901]]\n",
      "5 day input [0.47119799 0.47341922 0.46497853 0.47038353 0.47149415 0.47739312\n",
      " 0.48416662 0.4908697  0.49688435 0.50229013]\n",
      "5 day output [[0.5070651]]\n",
      "6 day input [0.47341922 0.46497853 0.47038353 0.47149415 0.47739312 0.48416662\n",
      " 0.4908697  0.49688435 0.50229013 0.50706512]\n",
      "6 day output [[0.5113617]]\n",
      "7 day input [0.46497853 0.47038353 0.47149415 0.47739312 0.48416662 0.4908697\n",
      " 0.49688435 0.50229013 0.50706512 0.51136172]\n",
      "7 day output [[0.5153413]]\n",
      "8 day input [0.47038353 0.47149415 0.47739312 0.48416662 0.4908697  0.49688435\n",
      " 0.50229013 0.50706512 0.51136172 0.51534128]\n",
      "8 day output [[0.5192685]]\n",
      "9 day input [0.47149415 0.47739312 0.48416662 0.4908697  0.49688435 0.50229013\n",
      " 0.50706512 0.51136172 0.51534128 0.51926851]\n",
      "9 day output [[0.5232522]]\n",
      "[[0.47739312052726746], [0.48416662216186523], [0.4908697009086609], [0.4968843460083008], [0.5022901296615601], [0.5070651173591614], [0.5113617181777954], [0.5153412818908691], [0.5192685127258301], [0.5232521891593933]]\n"
     ]
    }
   ],
   "source": [
    "from numpy import array\n",
    "\n",
    "lst_output=[]\n",
    "n_steps=10\n",
    "i=0\n",
    "while(i<10):\n",
    "    \n",
    "    if(len(temp_input)>10):\n",
    "        #print(temp_input)\n",
    "        x_input=np.array(temp_input[1:])\n",
    "        print(\"{} day input {}\".format(i,x_input))\n",
    "        x_input=x_input.reshape(1,-1)\n",
    "        x_input = x_input.reshape((1, n_steps, 1))\n",
    "        #print(x_input)\n",
    "        yhat = model.predict(x_input, verbose=0)\n",
    "        print(\"{} day output {}\".format(i,yhat))\n",
    "        temp_input.extend(yhat[0].tolist())\n",
    "        temp_input=temp_input[1:]\n",
    "        #print(temp_input)\n",
    "        lst_output.extend(yhat.tolist())\n",
    "        i=i+1\n",
    "    else:\n",
    "        x_input = x_input.reshape((1, n_steps,1))\n",
    "        yhat = model.predict(x_input, verbose=0)\n",
    "        print(yhat[0])\n",
    "        temp_input.extend(yhat[0].tolist())\n",
    "        print(len(temp_input))\n",
    "        lst_output.extend(yhat.tolist())\n",
    "        i=i+1\n",
    "\n",
    "print(lst_output)"
   ]
  },
  {
   "cell_type": "code",
   "execution_count": 50,
   "id": "0b42760c",
   "metadata": {
    "id": "0b42760c"
   },
   "outputs": [],
   "source": [
    "day_new=np.arange(1,11)\n",
    "day_pred=np.arange(11,21)"
   ]
  },
  {
   "cell_type": "code",
   "execution_count": 51,
   "id": "0022d868",
   "metadata": {
    "colab": {
     "base_uri": "https://localhost:8080/"
    },
    "id": "0022d868",
    "outputId": "b2dfdb9d-9a9d-490a-814f-29584f29768f"
   },
   "outputs": [
    {
     "data": {
      "text/plain": [
       "8216"
      ]
     },
     "execution_count": 51,
     "metadata": {},
     "output_type": "execute_result"
    }
   ],
   "source": [
    "len(data_oil)"
   ]
  },
  {
   "cell_type": "code",
   "execution_count": 52,
   "id": "41ad9d57",
   "metadata": {
    "colab": {
     "base_uri": "https://localhost:8080/",
     "height": 282
    },
    "id": "41ad9d57",
    "outputId": "98496272-437e-46ac-eb85-93a5b2e65239"
   },
   "outputs": [
    {
     "data": {
      "text/plain": [
       "[<matplotlib.lines.Line2D at 0x1d30f982220>]"
      ]
     },
     "execution_count": 52,
     "metadata": {},
     "output_type": "execute_result"
    },
    {
     "data": {
      "image/png": "[encoded data removed]",
      "text/plain": [
       "<Figure size 432x288 with 1 Axes>"
      ]
     },
     "metadata": {
      "needs_background": "light"
     },
     "output_type": "display_data"
    }
   ],
   "source": [
    "plt.plot(day_new,scaler.inverse_transform(data_oil[8206:]))\n",
    "plt.plot(day_pred,scaler.inverse_transform(lst_output))"
   ]
  },
  {
   "cell_type": "code",
   "execution_count": 53,
   "id": "d5acb181",
   "metadata": {
    "colab": {
     "base_uri": "https://localhost:8080/",
     "height": 282
    },
    "id": "d5acb181",
    "outputId": "04216fa9-38ae-4cb3-be27-b0b42ce3e290"
   },
   "outputs": [
    {
     "data": {
      "text/plain": [
       "[<matplotlib.lines.Line2D at 0x1d3123a4640>]"
      ]
     },
     "execution_count": 53,
     "metadata": {},
     "output_type": "execute_result"
    },
    {
     "data": {
      "image/png": "[encoded data removed]",
      "text/plain": [
       "<Figure size 432x288 with 1 Axes>"
      ]
     },
     "metadata": {
      "needs_background": "light"
     },
     "output_type": "display_data"
    }
   ],
   "source": [
    "df3=data_oil.tolist()\n",
    "df3.extend(lst_output)\n",
    "plt.plot(df3[8100:])"
   ]
  },
  {
   "cell_type": "code",
   "execution_count": 54,
   "id": "7d4c74ce",
   "metadata": {
    "id": "7d4c74ce"
   },
   "outputs": [],
   "source": [
    "df3=scaler.inverse_transform(df3).tolist()"
   ]
  },
  {
   "cell_type": "code",
   "execution_count": 55,
   "id": "fa30321f",
   "metadata": {
    "colab": {
     "base_uri": "https://localhost:8080/",
     "height": 282
    },
    "id": "fa30321f",
    "outputId": "bb4063c5-6d3e-4563-ae8d-483203e20c13"
   },
   "outputs": [
    {
     "data": {
      "text/plain": [
       "[<matplotlib.lines.Line2D at 0x1d30f975880>]"
      ]
     },
     "execution_count": 55,
     "metadata": {},
     "output_type": "execute_result"
    },
    {
     "data": {
      "image/png": "[encoded data removed]",
      "text/plain": [
       "<Figure size 432x288 with 1 Axes>"
      ]
     },
     "metadata": {
      "needs_background": "light"
     },
     "output_type": "display_data"
    }
   ],
   "source": [
    "plt.plot(df3)"
   ]
  },
  {
   "cell_type": "code",
   "execution_count": null,
   "id": "4b551741",
   "metadata": {
    "id": "4b551741"
   },
   "outputs": [],
   "source": []
  }
 ],
 "metadata": {
  "colab": {
   "name": "Crude.ipynb",
   "provenance": []
  },
  "kernelspec": {
   "display_name": "Python 3",
   "language": "python",
   "name": "python3"
  },
  "language_info": {
   "codemirror_mode": {
    "name": "ipython",
    "version": 3
   },
   "file_extension": ".py",
   "mimetype": "text/x-python",
   "name": "python",
   "nbconvert_exporter": "python",
   "pygments_lexer": "ipython3",
   "version": "3.8.8"
  }
 },
 "nbformat": 4,
 "nbformat_minor": 5
}
